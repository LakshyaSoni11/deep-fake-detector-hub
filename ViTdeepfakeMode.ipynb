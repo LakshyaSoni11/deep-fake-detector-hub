{
  "nbformat": 4,
  "nbformat_minor": 0,
  "metadata": {
    "colab": {
      "provenance": [],
      "include_colab_link": true
    },
    "kernelspec": {
      "name": "python3",
      "display_name": "Python 3"
    },
    "language_info": {
      "name": "python"
    }
  },
  "cells": [
    {
      "cell_type": "markdown",
      "metadata": {
        "id": "view-in-github",
        "colab_type": "text"
      },
      "source": [
        "<a href=\"https://colab.research.google.com/github/LakshyaSoni11/deep-fake-detector-hub/blob/main/ViTdeepfakeMode.ipynb\" target=\"_parent\"><img src=\"https://colab.research.google.com/assets/colab-badge.svg\" alt=\"Open In Colab\"/></a>"
      ]
    },
    {
      "cell_type": "code",
      "source": [
        "!pip uninstall -y tensorflow keras vit-keras tensorflow-addons\n",
        "!pip install tensorflow==2.15.0 vit-keras==0.1.2 tensorflow-addons==0.21.0"
      ],
      "metadata": {
        "colab": {
          "base_uri": "https://localhost:8080/",
          "height": 1000
        },
        "id": "kpX0kDTrXRjw",
        "outputId": "8f7178f7-082b-4f6c-8451-27e98ad807a4"
      },
      "execution_count": null,
      "outputs": [
        {
          "output_type": "stream",
          "name": "stdout",
          "text": [
            "Found existing installation: tensorflow 2.15.0\n",
            "Uninstalling tensorflow-2.15.0:\n",
            "  Successfully uninstalled tensorflow-2.15.0\n",
            "Found existing installation: keras 2.15.0\n",
            "Uninstalling keras-2.15.0:\n",
            "  Successfully uninstalled keras-2.15.0\n",
            "Found existing installation: vit-keras 0.1.2\n",
            "Uninstalling vit-keras-0.1.2:\n",
            "  Successfully uninstalled vit-keras-0.1.2\n",
            "Found existing installation: tensorflow-addons 0.21.0\n",
            "Uninstalling tensorflow-addons-0.21.0:\n",
            "  Successfully uninstalled tensorflow-addons-0.21.0\n",
            "Collecting tensorflow==2.15.0\n",
            "  Using cached tensorflow-2.15.0-cp311-cp311-manylinux_2_17_x86_64.manylinux2014_x86_64.whl.metadata (4.4 kB)\n",
            "Collecting vit-keras==0.1.2\n",
            "  Using cached vit_keras-0.1.2-py3-none-any.whl.metadata (4.0 kB)\n",
            "Collecting tensorflow-addons==0.21.0\n",
            "  Using cached tensorflow_addons-0.21.0-cp311-cp311-manylinux_2_17_x86_64.manylinux2014_x86_64.whl.metadata (1.8 kB)\n",
            "Requirement already satisfied: absl-py>=1.0.0 in /usr/local/lib/python3.11/dist-packages (from tensorflow==2.15.0) (1.4.0)\n",
            "Requirement already satisfied: astunparse>=1.6.0 in /usr/local/lib/python3.11/dist-packages (from tensorflow==2.15.0) (1.6.3)\n",
            "Requirement already satisfied: flatbuffers>=23.5.26 in /usr/local/lib/python3.11/dist-packages (from tensorflow==2.15.0) (25.2.10)\n",
            "Requirement already satisfied: gast!=0.5.0,!=0.5.1,!=0.5.2,>=0.2.1 in /usr/local/lib/python3.11/dist-packages (from tensorflow==2.15.0) (0.6.0)\n",
            "Requirement already satisfied: google-pasta>=0.1.1 in /usr/local/lib/python3.11/dist-packages (from tensorflow==2.15.0) (0.2.0)\n",
            "Requirement already satisfied: h5py>=2.9.0 in /usr/local/lib/python3.11/dist-packages (from tensorflow==2.15.0) (3.14.0)\n",
            "Requirement already satisfied: libclang>=13.0.0 in /usr/local/lib/python3.11/dist-packages (from tensorflow==2.15.0) (18.1.1)\n",
            "Requirement already satisfied: ml-dtypes~=0.2.0 in /usr/local/lib/python3.11/dist-packages (from tensorflow==2.15.0) (0.2.0)\n",
            "Requirement already satisfied: numpy<2.0.0,>=1.23.5 in /usr/local/lib/python3.11/dist-packages (from tensorflow==2.15.0) (1.26.4)\n",
            "Requirement already satisfied: opt-einsum>=2.3.2 in /usr/local/lib/python3.11/dist-packages (from tensorflow==2.15.0) (3.4.0)\n",
            "Requirement already satisfied: packaging in /usr/local/lib/python3.11/dist-packages (from tensorflow==2.15.0) (24.2)\n",
            "Requirement already satisfied: protobuf!=4.21.0,!=4.21.1,!=4.21.2,!=4.21.3,!=4.21.4,!=4.21.5,<5.0.0dev,>=3.20.3 in /usr/local/lib/python3.11/dist-packages (from tensorflow==2.15.0) (4.25.8)\n",
            "Requirement already satisfied: setuptools in /usr/local/lib/python3.11/dist-packages (from tensorflow==2.15.0) (75.2.0)\n",
            "Requirement already satisfied: six>=1.12.0 in /usr/local/lib/python3.11/dist-packages (from tensorflow==2.15.0) (1.17.0)\n",
            "Requirement already satisfied: termcolor>=1.1.0 in /usr/local/lib/python3.11/dist-packages (from tensorflow==2.15.0) (3.1.0)\n",
            "Requirement already satisfied: typing-extensions>=3.6.6 in /usr/local/lib/python3.11/dist-packages (from tensorflow==2.15.0) (4.14.0)\n",
            "Requirement already satisfied: wrapt<1.15,>=1.11.0 in /usr/local/lib/python3.11/dist-packages (from tensorflow==2.15.0) (1.14.1)\n",
            "Requirement already satisfied: tensorflow-io-gcs-filesystem>=0.23.1 in /usr/local/lib/python3.11/dist-packages (from tensorflow==2.15.0) (0.37.1)\n",
            "Requirement already satisfied: grpcio<2.0,>=1.24.3 in /usr/local/lib/python3.11/dist-packages (from tensorflow==2.15.0) (1.73.0)\n",
            "Requirement already satisfied: tensorboard<2.16,>=2.15 in /usr/local/lib/python3.11/dist-packages (from tensorflow==2.15.0) (2.15.2)\n",
            "Requirement already satisfied: tensorflow-estimator<2.16,>=2.15.0 in /usr/local/lib/python3.11/dist-packages (from tensorflow==2.15.0) (2.15.0)\n",
            "Collecting keras<2.16,>=2.15.0 (from tensorflow==2.15.0)\n",
            "  Using cached keras-2.15.0-py3-none-any.whl.metadata (2.4 kB)\n",
            "Requirement already satisfied: scipy in /usr/local/lib/python3.11/dist-packages (from vit-keras==0.1.2) (1.15.3)\n",
            "Requirement already satisfied: validators in /usr/local/lib/python3.11/dist-packages (from vit-keras==0.1.2) (0.35.0)\n",
            "Requirement already satisfied: typeguard<3.0.0,>=2.7 in /usr/local/lib/python3.11/dist-packages (from tensorflow-addons==0.21.0) (2.13.3)\n",
            "Requirement already satisfied: wheel<1.0,>=0.23.0 in /usr/local/lib/python3.11/dist-packages (from astunparse>=1.6.0->tensorflow==2.15.0) (0.45.1)\n",
            "Requirement already satisfied: google-auth<3,>=1.6.3 in /usr/local/lib/python3.11/dist-packages (from tensorboard<2.16,>=2.15->tensorflow==2.15.0) (2.38.0)\n",
            "Requirement already satisfied: google-auth-oauthlib<2,>=0.5 in /usr/local/lib/python3.11/dist-packages (from tensorboard<2.16,>=2.15->tensorflow==2.15.0) (1.2.2)\n",
            "Requirement already satisfied: markdown>=2.6.8 in /usr/local/lib/python3.11/dist-packages (from tensorboard<2.16,>=2.15->tensorflow==2.15.0) (3.8)\n",
            "Requirement already satisfied: requests<3,>=2.21.0 in /usr/local/lib/python3.11/dist-packages (from tensorboard<2.16,>=2.15->tensorflow==2.15.0) (2.32.3)\n",
            "Requirement already satisfied: tensorboard-data-server<0.8.0,>=0.7.0 in /usr/local/lib/python3.11/dist-packages (from tensorboard<2.16,>=2.15->tensorflow==2.15.0) (0.7.2)\n",
            "Requirement already satisfied: werkzeug>=1.0.1 in /usr/local/lib/python3.11/dist-packages (from tensorboard<2.16,>=2.15->tensorflow==2.15.0) (3.1.3)\n",
            "Requirement already satisfied: cachetools<6.0,>=2.0.0 in /usr/local/lib/python3.11/dist-packages (from google-auth<3,>=1.6.3->tensorboard<2.16,>=2.15->tensorflow==2.15.0) (5.5.2)\n",
            "Requirement already satisfied: pyasn1-modules>=0.2.1 in /usr/local/lib/python3.11/dist-packages (from google-auth<3,>=1.6.3->tensorboard<2.16,>=2.15->tensorflow==2.15.0) (0.4.2)\n",
            "Requirement already satisfied: rsa<5,>=3.1.4 in /usr/local/lib/python3.11/dist-packages (from google-auth<3,>=1.6.3->tensorboard<2.16,>=2.15->tensorflow==2.15.0) (4.9.1)\n",
            "Requirement already satisfied: requests-oauthlib>=0.7.0 in /usr/local/lib/python3.11/dist-packages (from google-auth-oauthlib<2,>=0.5->tensorboard<2.16,>=2.15->tensorflow==2.15.0) (2.0.0)\n",
            "Requirement already satisfied: charset-normalizer<4,>=2 in /usr/local/lib/python3.11/dist-packages (from requests<3,>=2.21.0->tensorboard<2.16,>=2.15->tensorflow==2.15.0) (3.4.2)\n",
            "Requirement already satisfied: idna<4,>=2.5 in /usr/local/lib/python3.11/dist-packages (from requests<3,>=2.21.0->tensorboard<2.16,>=2.15->tensorflow==2.15.0) (3.10)\n",
            "Requirement already satisfied: urllib3<3,>=1.21.1 in /usr/local/lib/python3.11/dist-packages (from requests<3,>=2.21.0->tensorboard<2.16,>=2.15->tensorflow==2.15.0) (2.4.0)\n",
            "Requirement already satisfied: certifi>=2017.4.17 in /usr/local/lib/python3.11/dist-packages (from requests<3,>=2.21.0->tensorboard<2.16,>=2.15->tensorflow==2.15.0) (2025.6.15)\n",
            "Requirement already satisfied: MarkupSafe>=2.1.1 in /usr/local/lib/python3.11/dist-packages (from werkzeug>=1.0.1->tensorboard<2.16,>=2.15->tensorflow==2.15.0) (3.0.2)\n",
            "Requirement already satisfied: pyasn1<0.7.0,>=0.6.1 in /usr/local/lib/python3.11/dist-packages (from pyasn1-modules>=0.2.1->google-auth<3,>=1.6.3->tensorboard<2.16,>=2.15->tensorflow==2.15.0) (0.6.1)\n",
            "Requirement already satisfied: oauthlib>=3.0.0 in /usr/local/lib/python3.11/dist-packages (from requests-oauthlib>=0.7.0->google-auth-oauthlib<2,>=0.5->tensorboard<2.16,>=2.15->tensorflow==2.15.0) (3.2.2)\n",
            "Using cached tensorflow-2.15.0-cp311-cp311-manylinux_2_17_x86_64.manylinux2014_x86_64.whl (475.3 MB)\n",
            "Using cached vit_keras-0.1.2-py3-none-any.whl (24 kB)\n",
            "Using cached tensorflow_addons-0.21.0-cp311-cp311-manylinux_2_17_x86_64.manylinux2014_x86_64.whl (612 kB)\n",
            "Using cached keras-2.15.0-py3-none-any.whl (1.7 MB)\n",
            "Installing collected packages: tensorflow-addons, keras, vit-keras, tensorflow\n",
            "\u001b[31mERROR: pip's dependency resolver does not currently take into account all the packages that are installed. This behaviour is the source of the following dependency conflicts.\n",
            "tensorflow-decision-forests 1.11.0 requires tensorflow==2.18.0, but you have tensorflow 2.15.0 which is incompatible.\n",
            "tensorflow-text 2.18.1 requires tensorflow<2.19,>=2.18.0, but you have tensorflow 2.15.0 which is incompatible.\n",
            "tf-keras 2.18.0 requires tensorflow<2.19,>=2.18, but you have tensorflow 2.15.0 which is incompatible.\u001b[0m\u001b[31m\n",
            "\u001b[0mSuccessfully installed keras-2.15.0 tensorflow-2.15.0 tensorflow-addons-0.21.0 vit-keras-0.1.2\n"
          ]
        },
        {
          "output_type": "display_data",
          "data": {
            "application/vnd.colab-display-data+json": {
              "pip_warning": {
                "packages": [
                  "keras",
                  "tensorflow"
                ]
              },
              "id": "2aa933828c0842b49d53040b040afd52"
            }
          },
          "metadata": {}
        }
      ]
    },
    {
      "cell_type": "code",
      "source": [
        "from google.colab import drive\n",
        "drive.mount('/content/drive')\n",
        "\n",
        "import os\n",
        "import cv2\n",
        "import numpy as np\n",
        "from tqdm import tqdm\n"
      ],
      "metadata": {
        "colab": {
          "base_uri": "https://localhost:8080/"
        },
        "id": "2VmQ2DwmXo76",
        "outputId": "1d369ee8-abfb-4b3a-8d7f-5b8c68dbc3d0"
      },
      "execution_count": null,
      "outputs": [
        {
          "output_type": "stream",
          "name": "stdout",
          "text": [
            "Drive already mounted at /content/drive; to attempt to forcibly remount, call drive.mount(\"/content/drive\", force_remount=True).\n"
          ]
        }
      ]
    },
    {
      "cell_type": "code",
      "source": [
        "import pickle as pkl"
      ],
      "metadata": {
        "id": "ZmA5RAOv_L0f"
      },
      "execution_count": null,
      "outputs": []
    },
    {
      "cell_type": "code",
      "source": [
        "def process_videos(video_dir, output_dir, frame_interval=30):\n",
        "    face_cascade = cv2.CascadeClassifier(cv2.data.haarcascades + 'haarcascade_frontalface_default.xml')\n",
        "    os.makedirs(output_dir, exist_ok=True)\n",
        "\n",
        "    for video_file in tqdm(os.listdir(video_dir)):\n",
        "        if not video_file.lower().endswith(('.mp4', '.avi', '.mov')):\n",
        "            continue\n",
        "\n",
        "        video_path = os.path.join(video_dir, video_file)\n",
        "        cap = cv2.VideoCapture(video_path)\n",
        "        frame_count = 0\n",
        "\n",
        "        while cap.isOpened():\n",
        "            ret, frame = cap.read()\n",
        "            if not ret: break\n",
        "\n",
        "            if frame_count % frame_interval == 0:\n",
        "                gray = cv2.cvtColor(frame, cv2.COLOR_BGR2GRAY)\n",
        "                faces = face_cascade.detectMultiScale(gray, 1.3, 5)\n",
        "\n",
        "                for i, (x,y,w,h) in enumerate(faces):\n",
        "                    face = frame[y:y+h, x:x+w]\n",
        "                    output_path = os.path.join(output_dir,\n",
        "                                             f\"{os.path.splitext(video_file)[0]}_f{frame_count}_face{i}.jpg\")\n",
        "                    cv2.imwrite(output_path, face)\n",
        "\n",
        "            frame_count += 1\n",
        "        cap.release()"
      ],
      "metadata": {
        "id": "Ut11C55-ZKLm"
      },
      "execution_count": null,
      "outputs": []
    },
    {
      "cell_type": "code",
      "source": [
        "# Process Celeb Real Videos\n",
        "process_videos(\n",
        "    video_dir='/content/drive/MyDrive/Colab Notebooks/Celeb_real_face_only',\n",
        "    output_dir='/content/drive/MyDrive/Colab Notebooks/Celeb_real_faces'\n",
        ")"
      ],
      "metadata": {
        "colab": {
          "base_uri": "https://localhost:8080/"
        },
        "id": "AAKGscdeZOd5",
        "outputId": "e635cc10-9546-4060-d7c4-bce9652f07fd"
      },
      "execution_count": null,
      "outputs": [
        {
          "output_type": "stream",
          "name": "stderr",
          "text": [
            "100%|██████████| 588/588 [00:39<00:00, 14.87it/s]\n"
          ]
        }
      ]
    },
    {
      "cell_type": "code",
      "source": [
        "# Process DFDC Real Videos\n",
        "process_videos(\n",
        "    video_dir='/content/drive/MyDrive/Colab Notebooks/DFDC_REAL_Face_only_data',\n",
        "    output_dir='/content/drive/MyDrive/Colab Notebooks/DFDC_REAL_faces'\n",
        ")"
      ],
      "metadata": {
        "colab": {
          "base_uri": "https://localhost:8080/"
        },
        "id": "xc4kfG-uZTZo",
        "outputId": "5b3f0047-9d54-4e18-f4b9-f12bcebbd78a"
      },
      "execution_count": null,
      "outputs": [
        {
          "output_type": "stream",
          "name": "stderr",
          "text": [
            "100%|██████████| 1727/1727 [01:17<00:00, 22.38it/s]\n"
          ]
        }
      ]
    },
    {
      "cell_type": "code",
      "source": [
        "# Process DFDC Fake Videos\n",
        "process_videos(\n",
        "    video_dir='/content/drive/MyDrive/Colab Notebooks/DFDC_FAKE_Face_only_data',\n",
        "    output_dir='/content/drive/MyDrive/Colab Notebooks/DFDC_FAKE_faces'\n",
        ")"
      ],
      "metadata": {
        "colab": {
          "base_uri": "https://localhost:8080/"
        },
        "id": "B9-l50qWczR8",
        "outputId": "fb7563be-9e92-4607-ddd1-d08de46b30bd"
      },
      "execution_count": null,
      "outputs": [
        {
          "output_type": "stream",
          "name": "stderr",
          "text": [
            "100%|██████████| 1566/1566 [01:08<00:00, 22.91it/s]\n"
          ]
        }
      ]
    },
    {
      "cell_type": "code",
      "source": [
        "# Check processed files\n",
        "!ls \"/content/drive/MyDrive/Colab Notebooks/Celeb_real_faces\" | head -5\n",
        "!ls \"/content/drive/MyDrive/Colab Notebooks/DFDC_REAL_faces\" | head -5\n",
        "!ls \"/content/drive/MyDrive/Colab Notebooks/DFDC_FAKE_faces\" | head -5"
      ],
      "metadata": {
        "colab": {
          "base_uri": "https://localhost:8080/"
        },
        "id": "eM-IArYbZXHg",
        "outputId": "87c19647-2119-4404-96ca-46f4e82e0a86"
      },
      "execution_count": null,
      "outputs": [
        {
          "output_type": "stream",
          "name": "stdout",
          "text": [
            "id0_0004_f0_face0.jpg\n",
            "id0_0004_f120_face0.jpg\n",
            "id0_0006_f30_face0.jpg\n",
            "id0_0007_f30_face0.jpg\n",
            "id0_0007_f60_face0.jpg\n",
            "acgzblwsgw_f30_face0.jpg\n",
            "acgzblwsgw_f60_face0.jpg\n",
            "acgzblwsgw_f90_face0.jpg\n",
            "adohdulfwb_f60_face0.jpg\n",
            "agvtpygfdc_f30_face0.jpg\n",
            "aabkwhhgwv_f90_face0.jpg\n",
            "aahsnkchkz_f60_face0.jpg\n",
            "aakkdgsmvl_f0_face0.jpg\n",
            "aauhqwwncp_f30_face0.jpg\n",
            "aawhvztjdt_f0_face0.jpg\n"
          ]
        }
      ]
    },
    {
      "cell_type": "code",
      "source": [
        "# Configure Paths (AFTER PROCESSING)\n",
        "base_dir = '/content/drive/MyDrive/Colab Notebooks'\n",
        "PATHS = {\n",
        "    'celeb_real': os.path.join(base_dir, 'Celeb_real_faces'),\n",
        "    'dfdc_real': os.path.join(base_dir, 'DFDC_REAL_faces'),\n",
        "    'dfdc_fake': os.path.join(base_dir, 'DFDC_FAKE_faces')\n",
        "}"
      ],
      "metadata": {
        "id": "do8Q1ykbbJrc"
      },
      "execution_count": null,
      "outputs": []
    },
    {
      "cell_type": "code",
      "source": [
        "!pip uninstall -y numpy  # Remove existing version\n",
        "!pip install numpy==1.26.4  # Install a version compatible with TensorFlow 2.15.0"
      ],
      "metadata": {
        "colab": {
          "base_uri": "https://localhost:8080/",
          "height": 408
        },
        "id": "oRq9gWejecrO",
        "outputId": "dcf0cbc9-c853-482e-a0fd-64e128fd39fd"
      },
      "execution_count": null,
      "outputs": [
        {
          "output_type": "stream",
          "name": "stdout",
          "text": [
            "Found existing installation: numpy 1.26.4\n",
            "Uninstalling numpy-1.26.4:\n",
            "  Successfully uninstalled numpy-1.26.4\n",
            "Collecting numpy==1.26.4\n",
            "  Using cached numpy-1.26.4-cp311-cp311-manylinux_2_17_x86_64.manylinux2014_x86_64.whl.metadata (61 kB)\n",
            "Using cached numpy-1.26.4-cp311-cp311-manylinux_2_17_x86_64.manylinux2014_x86_64.whl (18.3 MB)\n",
            "Installing collected packages: numpy\n",
            "\u001b[31mERROR: pip's dependency resolver does not currently take into account all the packages that are installed. This behaviour is the source of the following dependency conflicts.\n",
            "tensorstore 0.1.74 requires ml_dtypes>=0.3.1, but you have ml-dtypes 0.2.0 which is incompatible.\n",
            "tensorflow-decision-forests 1.11.0 requires tensorflow==2.18.0, but you have tensorflow 2.15.0 which is incompatible.\n",
            "tensorflow-text 2.18.1 requires tensorflow<2.19,>=2.18.0, but you have tensorflow 2.15.0 which is incompatible.\n",
            "jax 0.5.2 requires ml_dtypes>=0.4.0, but you have ml-dtypes 0.2.0 which is incompatible.\n",
            "tf-keras 2.18.0 requires tensorflow<2.19,>=2.18, but you have tensorflow 2.15.0 which is incompatible.\n",
            "ydf 0.12.0 requires protobuf<6.0.0,>=5.29.1, but you have protobuf 4.25.8 which is incompatible.\n",
            "thinc 8.3.6 requires numpy<3.0.0,>=2.0.0, but you have numpy 1.26.4 which is incompatible.\u001b[0m\u001b[31m\n",
            "\u001b[0mSuccessfully installed numpy-1.26.4\n"
          ]
        },
        {
          "output_type": "display_data",
          "data": {
            "application/vnd.colab-display-data+json": {
              "pip_warning": {
                "packages": [
                  "numpy"
                ]
              },
              "id": "294d6aa33dad439aaefc4ddebf6b0e49"
            }
          },
          "metadata": {}
        }
      ]
    },
    {
      "cell_type": "code",
      "source": [
        "from google.colab import drive\n",
        "drive.mount('/content/drive')\n",
        "\n",
        "import os\n",
        "import cv2\n",
        "import numpy as np\n",
        "import pandas as pd\n",
        "import tensorflow as tf\n",
        "from tqdm import tqdm\n",
        "from vit_keras import vit\n",
        "from tensorflow.keras import layers, models\n",
        "from tensorflow.keras.preprocessing.image import ImageDataGenerator\n",
        "from google.colab import files"
      ],
      "metadata": {
        "colab": {
          "base_uri": "https://localhost:8080/"
        },
        "id": "XqvIb3dKfC0i",
        "outputId": "8a088a2a-0304-4ca9-c390-f500e1f7a6f3"
      },
      "execution_count": null,
      "outputs": [
        {
          "output_type": "stream",
          "name": "stdout",
          "text": [
            "Drive already mounted at /content/drive; to attempt to forcibly remount, call drive.mount(\"/content/drive\", force_remount=True).\n"
          ]
        },
        {
          "output_type": "stream",
          "name": "stderr",
          "text": [
            "/usr/local/lib/python3.11/dist-packages/tensorflow_addons/utils/tfa_eol_msg.py:23: UserWarning: \n",
            "\n",
            "TensorFlow Addons (TFA) has ended development and introduction of new features.\n",
            "TFA has entered a minimal maintenance and release mode until a planned end of life in May 2024.\n",
            "Please modify downstream libraries to take dependencies from other repositories in our TensorFlow community (e.g. Keras, Keras-CV, and Keras-NLP). \n",
            "\n",
            "For more information see: https://github.com/tensorflow/addons/issues/2807 \n",
            "\n",
            "  warnings.warn(\n",
            "/usr/local/lib/python3.11/dist-packages/tensorflow_addons/utils/ensure_tf_install.py:53: UserWarning: Tensorflow Addons supports using Python ops for all Tensorflow versions above or equal to 2.11.0 and strictly below 2.14.0 (nightly versions are not supported). \n",
            " The versions of TensorFlow you are currently using is 2.15.0 and is not supported. \n",
            "Some things might work, some things might not.\n",
            "If you were to encounter a bug, do not file an issue.\n",
            "If you want to make sure you're using a tested and supported configuration, either change the TensorFlow version or the TensorFlow Addons's version. \n",
            "You can find the compatibility matrix in TensorFlow Addon's readme:\n",
            "https://github.com/tensorflow/addons\n",
            "  warnings.warn(\n"
          ]
        }
      ]
    },
    {
      "cell_type": "code",
      "source": [
        "# def load_dataset():\n",
        "#     real_paths = []\n",
        "#     fake_paths = []\n",
        "\n",
        "#     # CelebDF Real\n",
        "#     real_paths += [\n",
        "#         os.path.join(PATHS['celeb_real'], f)\n",
        "#         for f in os.listdir(PATHS['celeb_real'])\n",
        "#         if f.lower().endswith(('.jpg', '.png', '.jpeg'))\n",
        "#     ]\n",
        "\n",
        "#     # DFDC Real\n",
        "#     real_paths += [\n",
        "#         os.path.join(PATHS['dfdc_real'], f)\n",
        "#         for f in os.listdir(PATHS['dfdc_real'])\n",
        "#         if f.lower().endswith(('.jpg', '.png', '.jpeg'))\n",
        "#     ]\n",
        "\n",
        "#     # DFDC Fake\n",
        "#     fake_paths += [\n",
        "#         os.path.join(PATHS['dfdc_fake'], f)\n",
        "#         for f in os.listdir(PATHS['dfdc_fake'])\n",
        "#         if f.lower().endswith(('.jpg', '.png', '.jpeg'))\n",
        "#     ]\n",
        "\n",
        "#     df = pd.DataFrame({\n",
        "#         'path': real_paths + fake_paths,\n",
        "#         'label': [0]*len(real_paths) + [1]*len(fake_paths)\n",
        "#     })\n",
        "\n",
        "#     return df.drop_duplicates().sample(frac=1, random_state=42).reset_index(drop=True)\n",
        "\n",
        "# df = load_dataset()\n",
        "# print(f\"Loaded {len(df)} samples ({len(df[df.label==0])} real, {len(df[df.label==1])} fake)\")\n",
        "\n",
        "def load_balanced_dataset():\n",
        "    # Load all available paths\n",
        "    real_paths = []\n",
        "    fake_paths = []\n",
        "\n",
        "    # CelebDF Real\n",
        "    real_paths += [\n",
        "        os.path.join(PATHS['celeb_real'], f)\n",
        "        for f in os.listdir(PATHS['celeb_real'])\n",
        "        if f.lower().endswith(('.jpg', '.png', '.jpeg'))\n",
        "    ]\n",
        "\n",
        "    # DFDC Real\n",
        "    real_paths += [\n",
        "        os.path.join(PATHS['dfdc_real'], f)\n",
        "        for f in os.listdir(PATHS['dfdc_real'])\n",
        "        if f.lower().endswith(('.jpg', '.png', '.jpeg'))\n",
        "    ]\n",
        "\n",
        "    # DFDC Fake\n",
        "    fake_paths += [\n",
        "        os.path.join(PATHS['dfdc_fake'], f)\n",
        "        for f in os.listdir(PATHS['dfdc_fake'])\n",
        "        if f.lower().endswith(('.jpg', '.png', '.jpeg'))\n",
        "    ]\n",
        "\n",
        "    # Create balanced subsets\n",
        "    real_sample = pd.Series(real_paths).sample(n=369, random_state=42).tolist()\n",
        "    fake_sample = pd.Series(fake_paths).sample(n=369, random_state=42).tolist()\n",
        "\n",
        "    # Create balanced DataFrame\n",
        "    balanced_df = pd.DataFrame({\n",
        "        'path': real_sample + fake_sample,\n",
        "        'label': [0]*len(real_sample) + [1]*len(fake_sample)\n",
        "    })\n",
        "\n",
        "    return balanced_df.sample(frac=1, random_state=42).reset_index(drop=True)\n",
        "\n",
        "# Load balanced dataset\n",
        "balanced_df = load_balanced_dataset()\n",
        "print(f\"Loaded {len(balanced_df)} samples ({len(balanced_df[balanced_df.label==0])} real, \"\n",
        "      f\"{len(balanced_df[balanced_df.label==1])} fake)\")"
      ],
      "metadata": {
        "colab": {
          "base_uri": "https://localhost:8080/"
        },
        "id": "aO6qthbyfrID",
        "outputId": "0a3cc6e1-d474-478f-ed54-bfe87601e1eb"
      },
      "execution_count": null,
      "outputs": [
        {
          "output_type": "stream",
          "name": "stdout",
          "text": [
            "Loaded 738 samples (369 real, 369 fake)\n"
          ]
        }
      ]
    },
    {
      "cell_type": "code",
      "source": [
        "def build_vit_model():\n",
        "    IMG_SIZE = 128  # Keep this consistent everywhere\n",
        "\n",
        "    vit_model = vit.vit_b16(\n",
        "        image_size=IMG_SIZE,\n",
        "        activation='sigmoid',\n",
        "        pretrained=True,\n",
        "        include_top=False,\n",
        "        pretrained_top=False  # Add this critical parameter\n",
        "    )\n",
        "\n",
        "    # Freeze layers (adjusted for b16 architecture)\n",
        "    for layer in vit_model.layers[:-4]:\n",
        "        layer.trainable = False\n",
        "\n",
        "    model = models.Sequential([\n",
        "        vit_model,\n",
        "        layers.Dense(64, activation='gelu'),\n",
        "        layers.Dropout(0.1),\n",
        "        layers.Dense(1, activation='sigmoid')\n",
        "    ])\n",
        "\n",
        "    # model.compile(\n",
        "    #     optimizer=tf.keras.optimizers.Adam(3e-4),\n",
        "    #     loss='binary_crossentropy',\n",
        "    #     metrics=['accuracy', tf.keras.metrics.AUC(name='auc')]\n",
        "    # )\n",
        "\n",
        "    def focal_loss(gamma=2., alpha=0.75):\n",
        "        def loss(y_true, y_pred):\n",
        "          bce = tf.keras.losses.binary_crossentropy(y_true, y_pred)\n",
        "          bce_exp = tf.exp(-bce)\n",
        "          return alpha * (1 - bce_exp) ** gamma * bce\n",
        "        return loss\n",
        "\n",
        "    model.compile(\n",
        "    optimizer='adam',\n",
        "    loss=focal_loss(gamma=2., alpha=0.75),  # ✅ focal loss here\n",
        "    metrics=['accuracy', tf.keras.metrics.AUC()]\n",
        "    )\n",
        "\n",
        "    return model"
      ],
      "metadata": {
        "id": "eKaiDTJIfu7q"
      },
      "execution_count": null,
      "outputs": []
    },
    {
      "cell_type": "code",
      "source": [
        "model = build_vit_model()\n",
        "model.summary()  # Verify input shape: (None, 128, 128, 3)"
      ],
      "metadata": {
        "colab": {
          "base_uri": "https://localhost:8080/"
        },
        "id": "WQ7Kg_Wnuwxs",
        "outputId": "20018a78-8193-43e4-820f-6f0e878a956e"
      },
      "execution_count": null,
      "outputs": [
        {
          "output_type": "stream",
          "name": "stderr",
          "text": [
            "/usr/local/lib/python3.11/dist-packages/vit_keras/utils.py:81: UserWarning: Resizing position embeddings from 24, 24 to 8, 8\n",
            "  warnings.warn(\n"
          ]
        },
        {
          "output_type": "stream",
          "name": "stdout",
          "text": [
            "Model: \"sequential_1\"\n",
            "_________________________________________________________________\n",
            " Layer (type)                Output Shape              Param #   \n",
            "=================================================================\n",
            " vit-b16 (Functional)        (None, 768)               85697280  \n",
            "                                                                 \n",
            " dense_2 (Dense)             (None, 64)                49216     \n",
            "                                                                 \n",
            " dropout_1 (Dropout)         (None, 64)                0         \n",
            "                                                                 \n",
            " dense_3 (Dense)             (None, 1)                 65        \n",
            "                                                                 \n",
            "=================================================================\n",
            "Total params: 85746561 (327.10 MB)\n",
            "Trainable params: 14226561 (54.27 MB)\n",
            "Non-trainable params: 71520000 (272.83 MB)\n",
            "_________________________________________________________________\n"
          ]
        }
      ]
    },
    {
      "cell_type": "code",
      "source": [
        "def create_generators(df):\n",
        "    IMG_SIZE = 128\n",
        "    BATCH_SIZE = 128\n",
        "\n",
        "    # First split the DataFrame properly\n",
        "    train_df = df.sample(frac=0.8, random_state=42)\n",
        "    val_df = df.drop(train_df.index)\n",
        "\n",
        "    # Training generator\n",
        "    train_datagen = ImageDataGenerator(\n",
        "        preprocessing_function=lambda x: x/127.5 - 1.0,\n",
        "        horizontal_flip=True\n",
        "    )\n",
        "    train_gen = train_datagen.flow_from_dataframe(\n",
        "        train_df,\n",
        "        x_col='path',\n",
        "        y_col='label',\n",
        "        target_size=(IMG_SIZE, IMG_SIZE),\n",
        "        batch_size=BATCH_SIZE,\n",
        "        class_mode='raw'\n",
        "    )\n",
        "\n",
        "    # Validation generator\n",
        "    val_datagen = ImageDataGenerator(\n",
        "        preprocessing_function=lambda x: x/127.5 - 1.0\n",
        "    )\n",
        "    val_gen = val_datagen.flow_from_dataframe(\n",
        "        val_df,\n",
        "        x_col='path',\n",
        "        y_col='label',\n",
        "        target_size=(IMG_SIZE, IMG_SIZE),\n",
        "        batch_size=BATCH_SIZE*2,\n",
        "        class_mode='raw'\n",
        "    )\n",
        "\n",
        "    return train_gen, val_gen"
      ],
      "metadata": {
        "id": "BofhrLU4u6DQ"
      },
      "execution_count": null,
      "outputs": []
    },
    {
      "cell_type": "code",
      "source": [
        "train_gen, val_gen = create_generators(df)\n",
        "\n",
        "history = model.fit(\n",
        "    train_gen,\n",
        "    validation_data=val_gen,\n",
        "    epochs=5,\n",
        "    callbacks=[\n",
        "        tf.keras.callbacks.EarlyStopping(\n",
        "            monitor='val_auc',\n",
        "            patience=2,\n",
        "            mode='max',\n",
        "            restore_best_weights=True\n",
        "        )\n",
        "    ],\n",
        "    verbose=1\n",
        ")\n"
      ],
      "metadata": {
        "colab": {
          "base_uri": "https://localhost:8080/"
        },
        "id": "-v3J5RUau_nn",
        "outputId": "72111b5f-94a3-42c5-d41e-9c0800b57935"
      },
      "execution_count": null,
      "outputs": [
        {
          "output_type": "stream",
          "name": "stdout",
          "text": [
            "Found 1014 validated image filenames.\n",
            "Found 253 validated image filenames.\n",
            "Epoch 1/5\n",
            "8/8 [==============================] - ETA: 0s - loss: 0.3267 - accuracy: 0.5720 - auc_1: 0.4952 "
          ]
        },
        {
          "output_type": "stream",
          "name": "stderr",
          "text": [
            "WARNING:tensorflow:Early stopping conditioned on metric `val_auc` which is not available. Available metrics are: loss,accuracy,auc_1,val_loss,val_accuracy,val_auc_1\n"
          ]
        },
        {
          "output_type": "stream",
          "name": "stdout",
          "text": [
            "\b\b\b\b\b\b\b\b\b\b\b\b\b\b\b\b\b\b\b\b\b\b\b\b\b\b\b\b\b\b\b\b\b\b\b\b\b\b\b\b\b\b\b\b\b\b\b\b\b\b\b\b\b\b\b\b\b\b\b\b\b\b\b\b\b\b\b\b\b\b\b\b\b\b\b\b\b\b\b\b\b\b\b\b\b\b\b\b\b\b\b\b\b\b\b\b\r8/8 [==============================] - 412s 52s/step - loss: 0.3267 - accuracy: 0.5720 - auc_1: 0.4952 - val_loss: 0.1200 - val_accuracy: 0.6957 - val_auc_1: 0.6503\n",
            "Epoch 2/5\n",
            "8/8 [==============================] - ETA: 0s - loss: 0.1028 - accuracy: 0.7367 - auc_1: 0.7272 "
          ]
        },
        {
          "output_type": "stream",
          "name": "stderr",
          "text": [
            "WARNING:tensorflow:Early stopping conditioned on metric `val_auc` which is not available. Available metrics are: loss,accuracy,auc_1,val_loss,val_accuracy,val_auc_1\n"
          ]
        },
        {
          "output_type": "stream",
          "name": "stdout",
          "text": [
            "\b\b\b\b\b\b\b\b\b\b\b\b\b\b\b\b\b\b\b\b\b\b\b\b\b\b\b\b\b\b\b\b\b\b\b\b\b\b\b\b\b\b\b\b\b\b\b\b\b\b\b\b\b\b\b\b\b\b\b\b\b\b\b\b\b\b\b\b\b\b\b\b\b\b\b\b\b\b\b\b\b\b\b\b\b\b\b\b\b\b\b\b\b\b\b\b\r8/8 [==============================] - 367s 47s/step - loss: 0.1028 - accuracy: 0.7367 - auc_1: 0.7272 - val_loss: 0.1212 - val_accuracy: 0.7233 - val_auc_1: 0.7930\n",
            "Epoch 3/5\n",
            "8/8 [==============================] - ETA: 0s - loss: 0.0904 - accuracy: 0.7742 - auc_1: 0.8064 "
          ]
        },
        {
          "output_type": "stream",
          "name": "stderr",
          "text": [
            "WARNING:tensorflow:Early stopping conditioned on metric `val_auc` which is not available. Available metrics are: loss,accuracy,auc_1,val_loss,val_accuracy,val_auc_1\n"
          ]
        },
        {
          "output_type": "stream",
          "name": "stdout",
          "text": [
            "\b\b\b\b\b\b\b\b\b\b\b\b\b\b\b\b\b\b\b\b\b\b\b\b\b\b\b\b\b\b\b\b\b\b\b\b\b\b\b\b\b\b\b\b\b\b\b\b\b\b\b\b\b\b\b\b\b\b\b\b\b\b\b\b\b\b\b\b\b\b\b\b\b\b\b\b\b\b\b\b\b\b\b\b\b\b\b\b\b\b\b\b\b\b\b\b\r8/8 [==============================] - 368s 47s/step - loss: 0.0904 - accuracy: 0.7742 - auc_1: 0.8064 - val_loss: 0.0994 - val_accuracy: 0.7708 - val_auc_1: 0.8395\n",
            "Epoch 4/5\n",
            "8/8 [==============================] - ETA: 0s - loss: 0.0764 - accuracy: 0.8067 - auc_1: 0.8748 "
          ]
        },
        {
          "output_type": "stream",
          "name": "stderr",
          "text": [
            "WARNING:tensorflow:Early stopping conditioned on metric `val_auc` which is not available. Available metrics are: loss,accuracy,auc_1,val_loss,val_accuracy,val_auc_1\n"
          ]
        },
        {
          "output_type": "stream",
          "name": "stdout",
          "text": [
            "\b\b\b\b\b\b\b\b\b\b\b\b\b\b\b\b\b\b\b\b\b\b\b\b\b\b\b\b\b\b\b\b\b\b\b\b\b\b\b\b\b\b\b\b\b\b\b\b\b\b\b\b\b\b\b\b\b\b\b\b\b\b\b\b\b\b\b\b\b\b\b\b\b\b\b\b\b\b\b\b\b\b\b\b\b\b\b\b\b\b\b\b\b\b\b\b\r8/8 [==============================] - 367s 47s/step - loss: 0.0764 - accuracy: 0.8067 - auc_1: 0.8748 - val_loss: 0.0788 - val_accuracy: 0.8182 - val_auc_1: 0.8794\n",
            "Epoch 5/5\n",
            "8/8 [==============================] - ETA: 0s - loss: 0.0718 - accuracy: 0.8235 - auc_1: 0.8919 "
          ]
        },
        {
          "output_type": "stream",
          "name": "stderr",
          "text": [
            "WARNING:tensorflow:Early stopping conditioned on metric `val_auc` which is not available. Available metrics are: loss,accuracy,auc_1,val_loss,val_accuracy,val_auc_1\n"
          ]
        },
        {
          "output_type": "stream",
          "name": "stdout",
          "text": [
            "\b\b\b\b\b\b\b\b\b\b\b\b\b\b\b\b\b\b\b\b\b\b\b\b\b\b\b\b\b\b\b\b\b\b\b\b\b\b\b\b\b\b\b\b\b\b\b\b\b\b\b\b\b\b\b\b\b\b\b\b\b\b\b\b\b\b\b\b\b\b\b\b\b\b\b\b\b\b\b\b\b\b\b\b\b\b\b\b\b\b\b\b\b\b\b\b\r8/8 [==============================] - 364s 46s/step - loss: 0.0718 - accuracy: 0.8235 - auc_1: 0.8919 - val_loss: 0.0701 - val_accuracy: 0.8261 - val_auc_1: 0.9037\n"
          ]
        }
      ]
    },
    {
      "cell_type": "code",
      "source": [
        "model.save('/content/vit_deepfake_detector.keras')"
      ],
      "metadata": {
        "id": "KF6TRc8j4Kyj"
      },
      "execution_count": null,
      "outputs": []
    },
    {
      "cell_type": "code",
      "source": [
        "model.save('/content/vit_deepfake_detector.h5')"
      ],
      "metadata": {
        "colab": {
          "base_uri": "https://localhost:8080/"
        },
        "id": "IzRvmlR74f3Z",
        "outputId": "d3c82bb6-8985-4e5a-a47c-503e44ef694d"
      },
      "execution_count": null,
      "outputs": [
        {
          "output_type": "stream",
          "name": "stderr",
          "text": [
            "/usr/local/lib/python3.11/dist-packages/keras/src/engine/training.py:3103: UserWarning: You are saving your model as an HDF5 file via `model.save()`. This file format is considered legacy. We recommend using instead the native Keras format, e.g. `model.save('my_model.keras')`.\n",
            "  saving_api.save_model(\n"
          ]
        }
      ]
    },
    {
      "cell_type": "code",
      "source": [
        "model.save('/content/drive/MyDrive/vit_deepfake_detector.keras')"
      ],
      "metadata": {
        "id": "K0TIBLWs57Rr"
      },
      "execution_count": null,
      "outputs": []
    },
    {
      "cell_type": "code",
      "source": [
        "model.save('/content/drive/MyDrive/vit_deepfake_detector1.h5')"
      ],
      "metadata": {
        "id": "GcMRmyQH6l_M"
      },
      "execution_count": null,
      "outputs": []
    },
    {
      "cell_type": "code",
      "source": [
        "# 5. Prediction Function (Optimized)\n",
        "def predict_video(video_path, frame_skip=10):\n",
        "    \"\"\"\n",
        "    Args:\n",
        "        video_path: Path to video file\n",
        "        frame_skip: Process every nth frame (higher=faster)\n",
        "    Returns:\n",
        "        Prediction string with confidence\n",
        "    \"\"\"\n",
        "    face_cascade = cv2.CascadeClassifier(\n",
        "        cv2.data.haarcascades + 'haarcascade_frontalface_default.xml'\n",
        "    )\n",
        "\n",
        "    cap = cv2.VideoCapture(video_path)\n",
        "    predictions = []\n",
        "\n",
        "    while cap.isOpened():\n",
        "        # Skip frames for faster processing\n",
        "        for _ in range(frame_skip-1):\n",
        "            cap.grab()\n",
        "\n",
        "        ret, frame = cap.read()\n",
        "        if not ret:\n",
        "            break\n",
        "\n",
        "        # Face detection and preprocessing\n",
        "        gray = cv2.cvtColor(frame, cv2.COLOR_BGR2GRAY)\n",
        "        faces = face_cascade.detectMultiScale(gray, 1.1, 4)\n",
        "\n",
        "        for (x, y, w, h) in faces:\n",
        "            try:\n",
        "                face = cv2.resize(frame[y:y+h, x:x+w], (128, 128))  # Match model input size\n",
        "                face = (face / 127.5) - 1.0  # Same as training preprocessing\n",
        "                pred = model.predict(face[np.newaxis, ...], verbose=0)[0][0]\n",
        "                predictions.append(pred)\n",
        "            except Exception as e:\n",
        "                continue\n",
        "\n",
        "    cap.release()\n",
        "\n",
        "    if not predictions:\n",
        "        return \"No faces detected in video\"\n",
        "\n",
        "    avg_pred = np.mean(predictions)\n",
        "    confidence = avg_pred if avg_pred > 0.5 else 1 - avg_pred\n",
        "    return f\"Prediction: {'FAKE' if avg_pred > 0.5 else 'REAL'} (Confidence: {confidence*100:.1f}%)\"\n",
        "\n",
        "# 6. Upload and Test Video\n",
        "print(\"Upload a video file for analysis:\")\n",
        "uploaded = files.upload()\n",
        "\n",
        "for filename in uploaded.keys():\n",
        "    print(f\"\\nAnalyzing {filename}...\")\n",
        "    print(predict_video(filename))\n",
        "    print(\"-\" * 50)"
      ],
      "metadata": {
        "colab": {
          "base_uri": "https://localhost:8080/",
          "height": 56
        },
        "id": "yT64iLmD6hJ0",
        "outputId": "24439c9d-8a40-4d05-8776-c7c1e826d28c"
      },
      "execution_count": null,
      "outputs": [
        {
          "output_type": "stream",
          "name": "stdout",
          "text": [
            "Upload a video file for analysis:\n"
          ]
        },
        {
          "output_type": "display_data",
          "data": {
            "text/plain": [
              "<IPython.core.display.HTML object>"
            ],
            "text/html": [
              "\n",
              "     <input type=\"file\" id=\"files-de454e8b-1095-4e7e-be22-3d99d043aa80\" name=\"files[]\" multiple disabled\n",
              "        style=\"border:none\" />\n",
              "     <output id=\"result-de454e8b-1095-4e7e-be22-3d99d043aa80\">\n",
              "      Upload widget is only available when the cell has been executed in the\n",
              "      current browser session. Please rerun this cell to enable.\n",
              "      </output>\n",
              "      <script>// Copyright 2017 Google LLC\n",
              "//\n",
              "// Licensed under the Apache License, Version 2.0 (the \"License\");\n",
              "// you may not use this file except in compliance with the License.\n",
              "// You may obtain a copy of the License at\n",
              "//\n",
              "//      http://www.apache.org/licenses/LICENSE-2.0\n",
              "//\n",
              "// Unless required by applicable law or agreed to in writing, software\n",
              "// distributed under the License is distributed on an \"AS IS\" BASIS,\n",
              "// WITHOUT WARRANTIES OR CONDITIONS OF ANY KIND, either express or implied.\n",
              "// See the License for the specific language governing permissions and\n",
              "// limitations under the License.\n",
              "\n",
              "/**\n",
              " * @fileoverview Helpers for google.colab Python module.\n",
              " */\n",
              "(function(scope) {\n",
              "function span(text, styleAttributes = {}) {\n",
              "  const element = document.createElement('span');\n",
              "  element.textContent = text;\n",
              "  for (const key of Object.keys(styleAttributes)) {\n",
              "    element.style[key] = styleAttributes[key];\n",
              "  }\n",
              "  return element;\n",
              "}\n",
              "\n",
              "// Max number of bytes which will be uploaded at a time.\n",
              "const MAX_PAYLOAD_SIZE = 100 * 1024;\n",
              "\n",
              "function _uploadFiles(inputId, outputId) {\n",
              "  const steps = uploadFilesStep(inputId, outputId);\n",
              "  const outputElement = document.getElementById(outputId);\n",
              "  // Cache steps on the outputElement to make it available for the next call\n",
              "  // to uploadFilesContinue from Python.\n",
              "  outputElement.steps = steps;\n",
              "\n",
              "  return _uploadFilesContinue(outputId);\n",
              "}\n",
              "\n",
              "// This is roughly an async generator (not supported in the browser yet),\n",
              "// where there are multiple asynchronous steps and the Python side is going\n",
              "// to poll for completion of each step.\n",
              "// This uses a Promise to block the python side on completion of each step,\n",
              "// then passes the result of the previous step as the input to the next step.\n",
              "function _uploadFilesContinue(outputId) {\n",
              "  const outputElement = document.getElementById(outputId);\n",
              "  const steps = outputElement.steps;\n",
              "\n",
              "  const next = steps.next(outputElement.lastPromiseValue);\n",
              "  return Promise.resolve(next.value.promise).then((value) => {\n",
              "    // Cache the last promise value to make it available to the next\n",
              "    // step of the generator.\n",
              "    outputElement.lastPromiseValue = value;\n",
              "    return next.value.response;\n",
              "  });\n",
              "}\n",
              "\n",
              "/**\n",
              " * Generator function which is called between each async step of the upload\n",
              " * process.\n",
              " * @param {string} inputId Element ID of the input file picker element.\n",
              " * @param {string} outputId Element ID of the output display.\n",
              " * @return {!Iterable<!Object>} Iterable of next steps.\n",
              " */\n",
              "function* uploadFilesStep(inputId, outputId) {\n",
              "  const inputElement = document.getElementById(inputId);\n",
              "  inputElement.disabled = false;\n",
              "\n",
              "  const outputElement = document.getElementById(outputId);\n",
              "  outputElement.innerHTML = '';\n",
              "\n",
              "  const pickedPromise = new Promise((resolve) => {\n",
              "    inputElement.addEventListener('change', (e) => {\n",
              "      resolve(e.target.files);\n",
              "    });\n",
              "  });\n",
              "\n",
              "  const cancel = document.createElement('button');\n",
              "  inputElement.parentElement.appendChild(cancel);\n",
              "  cancel.textContent = 'Cancel upload';\n",
              "  const cancelPromise = new Promise((resolve) => {\n",
              "    cancel.onclick = () => {\n",
              "      resolve(null);\n",
              "    };\n",
              "  });\n",
              "\n",
              "  // Wait for the user to pick the files.\n",
              "  const files = yield {\n",
              "    promise: Promise.race([pickedPromise, cancelPromise]),\n",
              "    response: {\n",
              "      action: 'starting',\n",
              "    }\n",
              "  };\n",
              "\n",
              "  cancel.remove();\n",
              "\n",
              "  // Disable the input element since further picks are not allowed.\n",
              "  inputElement.disabled = true;\n",
              "\n",
              "  if (!files) {\n",
              "    return {\n",
              "      response: {\n",
              "        action: 'complete',\n",
              "      }\n",
              "    };\n",
              "  }\n",
              "\n",
              "  for (const file of files) {\n",
              "    const li = document.createElement('li');\n",
              "    li.append(span(file.name, {fontWeight: 'bold'}));\n",
              "    li.append(span(\n",
              "        `(${file.type || 'n/a'}) - ${file.size} bytes, ` +\n",
              "        `last modified: ${\n",
              "            file.lastModifiedDate ? file.lastModifiedDate.toLocaleDateString() :\n",
              "                                    'n/a'} - `));\n",
              "    const percent = span('0% done');\n",
              "    li.appendChild(percent);\n",
              "\n",
              "    outputElement.appendChild(li);\n",
              "\n",
              "    const fileDataPromise = new Promise((resolve) => {\n",
              "      const reader = new FileReader();\n",
              "      reader.onload = (e) => {\n",
              "        resolve(e.target.result);\n",
              "      };\n",
              "      reader.readAsArrayBuffer(file);\n",
              "    });\n",
              "    // Wait for the data to be ready.\n",
              "    let fileData = yield {\n",
              "      promise: fileDataPromise,\n",
              "      response: {\n",
              "        action: 'continue',\n",
              "      }\n",
              "    };\n",
              "\n",
              "    // Use a chunked sending to avoid message size limits. See b/62115660.\n",
              "    let position = 0;\n",
              "    do {\n",
              "      const length = Math.min(fileData.byteLength - position, MAX_PAYLOAD_SIZE);\n",
              "      const chunk = new Uint8Array(fileData, position, length);\n",
              "      position += length;\n",
              "\n",
              "      const base64 = btoa(String.fromCharCode.apply(null, chunk));\n",
              "      yield {\n",
              "        response: {\n",
              "          action: 'append',\n",
              "          file: file.name,\n",
              "          data: base64,\n",
              "        },\n",
              "      };\n",
              "\n",
              "      let percentDone = fileData.byteLength === 0 ?\n",
              "          100 :\n",
              "          Math.round((position / fileData.byteLength) * 100);\n",
              "      percent.textContent = `${percentDone}% done`;\n",
              "\n",
              "    } while (position < fileData.byteLength);\n",
              "  }\n",
              "\n",
              "  // All done.\n",
              "  yield {\n",
              "    response: {\n",
              "      action: 'complete',\n",
              "    }\n",
              "  };\n",
              "}\n",
              "\n",
              "scope.google = scope.google || {};\n",
              "scope.google.colab = scope.google.colab || {};\n",
              "scope.google.colab._files = {\n",
              "  _uploadFiles,\n",
              "  _uploadFilesContinue,\n",
              "};\n",
              "})(self);\n",
              "</script> "
            ]
          },
          "metadata": {}
        }
      ]
    },
    {
      "cell_type": "markdown",
      "source": [
        "+train_gen, val_gen = create_generators(df)\n",
        "\n",
        "history = model.fit(\n",
        "    train_gen,\n",
        "    validation_data=val_gen,\n",
        "    epochs=5,\n",
        "    callbacks=[\n",
        "        tf.keras.callbacks.EarlyStopping(\n",
        "            monitor='val_auc',\n",
        "            patience=5,\n",
        "            mode='max',\n",
        "            restore_best_weights=True\n",
        "        )\n",
        "    ]\n",
        ")"
      ],
      "metadata": {
        "id": "1n2ZCd6tf5iL"
      }
    }
  ]
}